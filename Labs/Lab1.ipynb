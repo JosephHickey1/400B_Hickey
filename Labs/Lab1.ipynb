{
 "cells": [
  {
   "cell_type": "markdown",
   "metadata": {},
   "source": [
    "# In Class Lab 1\n",
    "\n",
    "## Part A:  The Local Standard of Rest\n",
    "Proper motion of Sgr A* from Reid & Brunthaler 2004\n",
    "$\\mu = 6.379$ mas/yr \n",
    "\n",
    "Peculiar motion of the sun, $v_\\odot$ = 12.24 km/s  (Schonrich 2010)\n",
    "\n",
    "\n",
    "$v_{tan} = 4.74 \\frac{\\mu}{\\rm mas/yr} \\frac{R_o}{\\rm kpc} = V_{LSR} + v_\\odot$\n",
    "\n",
    "\n",
    "### a)\n",
    "\n",
    "Create a function called VLSR to compute the local standard of res (V$_{LSR}$).\n",
    "\n",
    "The function should take as input: the solar radius (R$_o$), the proper motion (mu)\n",
    "and the peculiar motion of the sun in the $v_\\odot$ direction.\n",
    "\n",
    "Compute V$_{LSR}$ using three different values R$_o$: \n",
    "1. Water Maser Distance for the Sun :  R$_o$ = 8.34 kpc   (Reid 2014 ApJ 783) \n",
    "2. GRAVITY Collaboration Distance for the Sun:  R$_o$ = 8.178 kpc   (Abuter+2019 A&A 625)\n",
    "3. Value for Distance to Sun listed in Sparke & Gallagher : R$_o$ = 7.9 kpc \n"
   ]
  },
  {
   "cell_type": "code",
   "execution_count": 31,
   "metadata": {},
   "outputs": [],
   "source": [
    "import numpy as np\n",
    "import astropy.units as u"
   ]
  },
  {
   "cell_type": "code",
   "execution_count": 32,
   "metadata": {},
   "outputs": [
    {
     "name": "stdout",
     "output_type": "stream",
     "text": [
      "239.9320764 km / s 235.03376988000002 km / s 226.628034 km / s\n"
     ]
    }
   ],
   "source": [
    "#Write a function which calculates the velocity of the local standard of rest at a given radius\n",
    "def VLSR(rad,mu=6.379,vpec=12.24):\n",
    "    #Inputs\n",
    "    #vpec is the peculiar motion of the sun. Default = 12.24 km/s from Schonrich+2010\n",
    "    #mu is the proper motion of SagA*. Default is 6.379 mas/yr\n",
    "    #Rad is the radial distance between the sun and the galactic center\n",
    "    vpec *= u.km / u.s\n",
    "    mu *= u.mas / u.yr\n",
    "    rad *= u.kpc\n",
    "#Equations given above\n",
    "    vtan = 4.74 * mu * rad * u.km / u.s / u.kpc / (u.mas / u.yr)\n",
    "    vlsr = vtan - vpec\n",
    "    \n",
    "    return vlsr\n",
    "#Print the Vlsr at 3 derived radii\n",
    "VLSR_Reid = VLSR(8.34)\n",
    "VLSR_Gravity = VLSR(8.178)\n",
    "VLSR_SG = VLSR(7.9)\n",
    "\n",
    "print(VLSR_Reid,VLSR_Gravity,VLSR_SG)"
   ]
  },
  {
   "cell_type": "markdown",
   "metadata": {},
   "source": [
    "### b)\n",
    "\n",
    "compute the orbital period of the sun using R$_o$ from the GRAVITY Collaboration (assume circular orbit)\n",
    "\n",
    "Note that 1 km/s $\\sim$ 1kpc/Gyr"
   ]
  },
  {
   "cell_type": "code",
   "execution_count": 33,
   "metadata": {},
   "outputs": [
    {
     "name": "stdout",
     "output_type": "stream",
     "text": [
      "0.20318680562113045 Gyr\n"
     ]
    }
   ],
   "source": [
    "#Determine distance travelled in one rotation and calculate rotation period\n",
    "vtan = VLSR_Gravity + 12.24 * u.km / u.s\n",
    "r = 8.178\n",
    "l = 2 * r * np.pi * u.kpc\n",
    "t = (l / vtan).to(u.Gyr)\n",
    "print(t)"
   ]
  },
  {
   "cell_type": "markdown",
   "metadata": {},
   "source": [
    "### c)\n",
    "\n",
    "Compute the number of rotations about the GC over the age of the universe (13.8 Gyr)"
   ]
  },
  {
   "cell_type": "code",
   "execution_count": 34,
   "metadata": {},
   "outputs": [
    {
     "name": "stdout",
     "output_type": "stream",
     "text": [
      "67.91779593076524\n"
     ]
    }
   ],
   "source": [
    "#Number of rotations at current rate through lifetime of universe\n",
    "tuni = 13.8 * u.Gyr\n",
    "numrot = tuni / t\n",
    "print(numrot)"
   ]
  },
  {
   "cell_type": "markdown",
   "metadata": {},
   "source": [
    "## Part B  Dark Matter Density Profiles\n",
    "\n",
    "### a)\n",
    "Try out Fitting Rotation Curves \n",
    "[here](http://wittman.physics.ucdavis.edu/Animations/RotationCurve/GalacticRotation.html)\n",
    "\n",
    "\n",
    "### b)\n",
    "\n",
    "In the Isothermal Sphere model, what is the mass enclosed within the solar radius (R$_o$) in units of $10^{10}$ M$_\\odot$? \n",
    "\n",
    "Recall that for the Isothermal sphere :\n",
    "$\\rho(r) = \\frac{V_{LSR}^2}{4\\pi G r^2}$\n",
    "\n",
    "Where $G$ = 4.4988e-6 kpc$^3$/Gyr$^2$/M$_\\odot$\n",
    "\n",
    "What about at 260 kpc (in units of 10$^{12}$ M$_\\odot$) ? "
   ]
  },
  {
   "cell_type": "markdown",
   "metadata": {},
   "source": [
    "$\\rho(r) = \\frac{V_{LSR}^2}{4\\pi G r^2}$  becomes  $m(r) = \\frac{r V_{LSR}^2}{G}$  \n",
    "\n",
    "therefore the mass within the solar radius is"
   ]
  },
  {
   "cell_type": "code",
   "execution_count": 35,
   "metadata": {},
   "outputs": [
    {
     "data": {
      "text/latex": [
       "$10.503107 \\; \\mathrm{1 \\times 10^{10}\\,M_{\\odot}}$"
      ],
      "text/plain": [
       "<Quantity 10.50310717 1e+10 solMass>"
      ]
     },
     "execution_count": 35,
     "metadata": {},
     "output_type": "execute_result"
    }
   ],
   "source": [
    "#Gravitational constant\n",
    "G = 4.4988*10**-6 * u.kpc**3 / u.Gyr**2 / u.Msun\n",
    "#Compute mass enclosed assuming an isothermal sphere model\n",
    "#Solve for mass as function of radius using density as function of radius\n",
    "mass = r * u.kpc * VLSR_Gravity**2 / G\n",
    "mass = mass.to(10**10 * u.Msun)\n",
    "mass"
   ]
  },
  {
   "cell_type": "markdown",
   "metadata": {},
   "source": [
    "And the mass within 260kpc is"
   ]
  },
  {
   "cell_type": "code",
   "execution_count": 36,
   "metadata": {},
   "outputs": [
    {
     "data": {
      "text/latex": [
       "$3.3392124 \\; \\mathrm{1 \\times 10^{12}\\,M_{\\odot}}$"
      ],
      "text/plain": [
       "<Quantity 3.33921235 1e+12 solMass>"
      ]
     },
     "execution_count": 36,
     "metadata": {},
     "output_type": "execute_result"
    }
   ],
   "source": [
    "r = 260 * u.kpc\n",
    "mass260 = (r * VLSR_Gravity**2 / G).to(10**12 * u.Msun)\n",
    "mass260"
   ]
  },
  {
   "cell_type": "markdown",
   "metadata": {},
   "source": [
    "## c) \n",
    "\n",
    "The Leo I satellite is one of the fastest moving satellite galaxies we know. \n",
    "\n",
    "\n",
    "It is moving with 3D velocity of magnitude: Vtot = 196 km/s at a distance of 260 kpc (Sohn 2013 ApJ 768)\n",
    "\n",
    "If we assume that Leo I is moving at the escape speed:\n",
    "\n",
    "$v_{esc}^2 = 2|\\Phi| = 2 \\int G \\frac{\\rho(r)}{r}dV $ \n",
    "\n",
    "and assuming the Milky Way is well modeled by a Hernquist Sphere with a scale radius of $a$= 30 kpc, what is the minimum mass of the Milky Way (in units of $10^{12}$ M$_\\odot$) ?  \n",
    "\n",
    "How does this compare to estimates of the mass assuming the Isothermal Sphere model at 260 kpc (from your answer above)"
   ]
  },
  {
   "cell_type": "code",
   "execution_count": 37,
   "metadata": {},
   "outputs": [
    {
     "name": "stdout",
     "output_type": "stream",
     "text": [
      "1.2950612300951958 1e+12 solMass\n"
     ]
    }
   ],
   "source": [
    "#Potential for Hernquist sphere is phi = -GM/(r+a)\n",
    "#a is the scale radius, G is the gravitational constant\n",
    "#Using the Hernquist potential, v_esc^2 becomes 2*GM/(r+a)\n",
    "#Rearranging the escape speed equation for M\n",
    "#M = v_esc^2/2/G*(r+a)\n",
    "#M = 196^2/2/G*(260+30)\n",
    "\n",
    "def MassVesc(vesc,a,r):\n",
    "    #Inputs\n",
    "#vesc is the escape speed\n",
    "#a is the scale radius of the galaxy\n",
    "#r is the distance from the galactic center\n",
    "    #Outputs\n",
    "#Returns total mass in 10^12 solar masses\n",
    "    r *= u.kpc\n",
    "    a *= u.kpc\n",
    "    vesc *= u.km / u.s\n",
    "    masshern = (vesc**2/2/G*(r+a)).to(10**12 * u.Msun)\n",
    "    return masshern\n",
    "\n",
    "mass260 = MassVesc(196,30,260)\n",
    "print(mass260)"
   ]
  }
 ],
 "metadata": {
  "kernelspec": {
   "display_name": "Python 3",
   "language": "python",
   "name": "python3"
  },
  "language_info": {
   "codemirror_mode": {
    "name": "ipython",
    "version": 3
   },
   "file_extension": ".py",
   "mimetype": "text/x-python",
   "name": "python",
   "nbconvert_exporter": "python",
   "pygments_lexer": "ipython3",
   "version": "3.7.4"
  }
 },
 "nbformat": 4,
 "nbformat_minor": 2
}
