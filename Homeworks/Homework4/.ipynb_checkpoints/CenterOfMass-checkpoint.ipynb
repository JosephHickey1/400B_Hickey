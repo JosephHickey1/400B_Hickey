{
 "cells": [
  {
   "cell_type": "markdown",
   "metadata": {},
   "source": [
    "Joseph Hickey  \n",
    "2/12/2020  \n",
    "Astr400B Homework 4  \n",
    "Create a class which calculates the center of mass position and velocity of a given galaxy  \n"
   ]
  },
  {
   "cell_type": "code",
   "execution_count": 40,
   "metadata": {},
   "outputs": [],
   "source": [
    "import numpy as np\n",
    "import astropy.units as u\n",
    "import astropy.table as tbl\n",
    "from ReadFile import Read"
   ]
  },
  {
   "cell_type": "code",
   "execution_count": 41,
   "metadata": {},
   "outputs": [],
   "source": [
    "#Define the class\n",
    "class CenterOfMass:\n",
    "    \n",
    "#Initialize the class\n",
    "    def __init__(self,filename,particletype):\n",
    "        \n",
    "        #Self refers to an aspect of the class that becomes a local variable\n",
    "        self.time, self.total, self.data = Read(filename)\n",
    "        \n",
    "        #Index of particle type given\n",
    "        self.index = np.where(self.data['type'] == particletype)\n",
    "        \n",
    "        #Get info on all particles of given type and put it in new arrays\n",
    "        self.m = self.data['m'][self.index]\n",
    "        self.x = self.data['x'][self.index]\n",
    "        self.y = self.data['y'][self.index]\n",
    "        self.z = self.data['z'][self.index]\n",
    "        self.vx = self.data['vx'][self.index]\n",
    "        self.vy = self.data['vy'][self.index]\n",
    "        self.vz = self.data['vz'][self.index]\n",
    "        \n",
    "    \n",
    "#Function returns center of mass in three axes\n",
    "    def COMdefine(self,a,b,c,m):\n",
    "        #a, b, c, and m are arrays of positions or velocities and mass\n",
    "        Acom = np.sum(a * m)/np.sum(m)\n",
    "        \n",
    "        Bcom = np.sum(b * m)/np.sum(m)\n",
    "        \n",
    "        Ccom = np.sum(c * m)/np.sum(m)\n",
    "        \n",
    "        return Acom, Bcom, Ccom\n",
    "        \n",
    "    \n",
    "#Returns position and velocity of COM\n",
    "    def COM_P(self,delta):\n",
    "        #Takes particletype and a tolerance of change as it iterates\n",
    "        \n",
    "        #First calculation from COMdefine\n",
    "        XCOM, YCOM, ZCOM = self.COMdefine(self.x, self.y, self.z, self.m)\n",
    "        RCOM = np.sqrt(XCOM**2 + YCOM**2 + ZCOM**2)\n",
    "        \n",
    "        #Get initial values for the iteration by setting COMdefine zero to be local zero\n",
    "        xNew = self.x - XCOM\n",
    "        yNew = self.y - YCOM\n",
    "        zNew = self.z - ZCOM\n",
    "        RNEW = np.sqrt(self.x**2 + self.y**2 + self.z**2)\n",
    "        #Maximum distance to a particle from the guessed COM/2 to recalculate\n",
    "        RMAX = max(RNEW)/2.\n",
    "        Change = 1000.0\n",
    "        \n",
    "        #Iterate until the change is within the tolerance\n",
    "        while(Change > delta):\n",
    "            #Get all particles within RMAX\n",
    "            index2 = np.where(RNEW <= RMAX)\n",
    "            x2 = self.x[index2]\n",
    "            y2 = self.y[index2]\n",
    "            z2 = self.z[index2]\n",
    "            m2 = self.m[index2]\n",
    "            \n",
    "            #Get the new COM with COMdefine\n",
    "            XCOM2, YCOM2, ZCOM2 = self.COMdefine(x2,y2,z2,m2)\n",
    "            RCOM2 = np.sqrt(XCOM2**2 + YCOM2**2 + ZCOM2**2)\n",
    "            \n",
    "            #Check if the difference is within tolerance\n",
    "            Change = np.abs(RCOM - RCOM2)\n",
    "            \n",
    "            #Reset the separations and rmax\n",
    "            xNew = self.x - XCOM2\n",
    "            yNew = self.y - YCOM2\n",
    "            zNew = self.z - ZCOM2\n",
    "            RNEW = np.sqrt(xNew**2 + yNew**2 + zNew**2)\n",
    "            \n",
    "            #Set initial values to new values for next iteration\n",
    "            XCOM = XCOM2\n",
    "            YCOM = YCOM2\n",
    "            ZCOM = ZCOM2\n",
    "            RCOM = RCOM2\n",
    "            \n",
    "            VEC = [XCOM,YCOM,ZCOM]\n",
    "            \n",
    "        \n",
    "        #Set units and return the components\n",
    "        VEC *= u.kpc\n",
    "        VEC = np.around(VEC,2)\n",
    "        \n",
    "        return VEC\n",
    "    \n",
    "    \n",
    "    def COM_V(self,COMX,COMY,COMZ):\n",
    "        #Use the refined COM position to set your origin point and calculate the COM velocity\n",
    "        RVMAX = 15.0 * u.kpc\n",
    "        \n",
    "        #Get locations of all particles w.r.t. COM\n",
    "        xV = self.x - COMX.value\n",
    "        yV = self.y - COMY.value\n",
    "        zV = self.z - COMZ.value\n",
    "        RV = np.sqrt(xV**2 + yV**2 + zV**2)\n",
    "        \n",
    "        #Get index for all particles within RVMAX\n",
    "        indexV = np.where(RV <= RVMAX.value)\n",
    "        \n",
    "        #Get velocity components for those particles\n",
    "        vxnew = self.vx[indexV]\n",
    "        vynew = self.vy[indexV]\n",
    "        vznew = self.vz[indexV]\n",
    "        mnew =  self.m[indexV]\n",
    "        \n",
    "        #Compute COM velocity using COMdefine\n",
    "        VXCOM, VYCOM, VZCOM = self.COMdefine(vxnew,vynew,vznew,mnew)\n",
    "        \n",
    "        VVEC = [VXCOM, VYCOM, VZCOM]\n",
    "        VVEC = VVEC * u.km / u.s\n",
    "        VVEC = np.around(VVEC,2)\n",
    "        \n",
    "        return VVEC\n",
    "    \n",
    "    \n"
   ]
  },
  {
   "cell_type": "markdown",
   "metadata": {},
   "source": [
    "## Testing the code:"
   ]
  },
  {
   "cell_type": "code",
   "execution_count": 42,
   "metadata": {},
   "outputs": [],
   "source": [
    "MWCOM = CenterOfMass('MW_000.txt',2)\n",
    "M31COM = CenterOfMass('M31_000.txt',2)\n",
    "M33COM = CenterOfMass('M33_000.txt',2)"
   ]
  },
  {
   "cell_type": "code",
   "execution_count": 43,
   "metadata": {},
   "outputs": [
    {
     "name": "stdout",
     "output_type": "stream",
     "text": [
      "The position of the COM of the Milky Way is x: -1.17 kpc  y: 2.33 kpc  z: -1.43 kpc\n",
      "The position of the COM of M31 is x: nan kpc  y: nan kpc  z: nan kpc\n",
      "The position of the COM of M33y is x: nan kpc  y: nan kpc  z: nan kpc\n",
      "The velocity of the COM of the Milky Way is vx: -0.66 km / s  vy: 4.17 km / s  vz: -1.33 km / s\n",
      "The velocity of the COM of M31 is vx: nan km / s  vy: nan km / s  vz: nan km / s\n",
      "The velocity of the COM of M33 is vx: nan km / s  vy: nan km / s  vz: nan km / s\n"
     ]
    },
    {
     "name": "stderr",
     "output_type": "stream",
     "text": [
      "C:\\Users\\User\\Anaconda3\\lib\\site-packages\\ipykernel_launcher.py:26: RuntimeWarning: invalid value encountered in double_scalars\n",
      "C:\\Users\\User\\Anaconda3\\lib\\site-packages\\ipykernel_launcher.py:28: RuntimeWarning: invalid value encountered in double_scalars\n",
      "C:\\Users\\User\\Anaconda3\\lib\\site-packages\\ipykernel_launcher.py:30: RuntimeWarning: invalid value encountered in double_scalars\n",
      "C:\\Users\\User\\Anaconda3\\lib\\site-packages\\ipykernel_launcher.py:101: RuntimeWarning: invalid value encountered in less_equal\n"
     ]
    }
   ],
   "source": [
    "# Question 1\n",
    "MW = MWCOM.COM_P(0.1)\n",
    "M31 = M31COM.COM_P(0.1)\n",
    "M33 = M33COM.COM_P(0.1)\n",
    "print(\"The position of the COM of the Milky Way is x:\",MW[0],\" y:\",MW[1],\" z:\",MW[2])\n",
    "print(\"The position of the COM of M31 is x:\",M31[0],\" y:\",M31[1],\" z:\",M31[2])\n",
    "print(\"The position of the COM of M33 is x:\",M33[0],\" y:\",M33[1],\" z:\",M33[2])\n",
    "\n",
    "MWV = MWCOM.COM_V(MW[0],MW[1],MW[2])\n",
    "M31V = M31COM.COM_V(M31[0],M31[1],M31[2])\n",
    "M33V = M33COM.COM_V(M33[0],M33[1],M33[2])\n",
    "print(\"The velocity of the COM of the Milky Way is vx:\",MWV[0],\" vy:\",MWV[1],\" vz:\",MWV[2])\n",
    "print(\"The velocity of the COM of M31 is vx:\",M31V[0],\" vy:\",M31V[1],\" vz:\",M31V[2])\n",
    "print(\"The velocity of the COM of M33 is vx:\",M33V[0],\" vy:\",M33V[1],\" vz:\",M33V[2])\n"
   ]
  },
  {
   "cell_type": "code",
   "execution_count": null,
   "metadata": {},
   "outputs": [],
   "source": [
    "#Question 2\n",
    "distcomp = MW - M31\n",
    "velcomp = MWV - M31V\n",
    "dist = np.sqrt(np.sum(distcomp**2))\n",
    "vel = np.sqrt(np.sum(velcomp**2))\n",
    "print(\"The distance between the Milky Way and M31 is:\",dist)\n",
    "print(\"The velocity between the Milky Way and M31 is:\",vel)"
   ]
  },
  {
   "cell_type": "code",
   "execution_count": null,
   "metadata": {},
   "outputs": [],
   "source": [
    "#Question 3\n",
    "distcompM33 = M31 - M33\n",
    "velcompM33 = M31V - M33V\n",
    "distM33 = np.sqrt(np.sum(distcompM33**2))\n",
    "velM33 = np.sqrt(np.sum(velcompM33**2))\n",
    "print(\"The distance between the M33 and M31 is:\",distM33)\n",
    "print(\"The velocity between the M33 and M31 is:\",velM33)"
   ]
  },
  {
   "cell_type": "markdown",
   "metadata": {},
   "source": [
    "#### Question 4  \n",
    "Since M31 and the Milky Way are about to merge, their dark matter halos are influencing both galaxies as well as M33 by exerting force on particles within the galaxies such as the disk. By taking a first guess and then shrinking the radius for the next check, you iteratively remove the influence each galaxy has on the other by throwing out particles far from the COM.\n"
   ]
  }
 ],
 "metadata": {
  "kernelspec": {
   "display_name": "Python 3",
   "language": "python",
   "name": "python3"
  },
  "language_info": {
   "codemirror_mode": {
    "name": "ipython",
    "version": 3
   },
   "file_extension": ".py",
   "mimetype": "text/x-python",
   "name": "python",
   "nbconvert_exporter": "python",
   "pygments_lexer": "ipython3",
   "version": "3.7.0"
  }
 },
 "nbformat": 4,
 "nbformat_minor": 2
}
