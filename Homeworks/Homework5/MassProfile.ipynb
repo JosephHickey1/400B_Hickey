{
 "cells": [
  {
   "cell_type": "markdown",
   "metadata": {},
   "source": [
    "Joseph Hickey  \n",
    "ASTR 400B  \n",
    "2/19/2020  \n",
    "Create a class which returns a mass profile of a galaxy at a given time step"
   ]
  },
  {
   "cell_type": "code",
   "execution_count": 2,
   "metadata": {},
   "outputs": [],
   "source": [
    "#Import relevant modules\n",
    "import numpy as np\n",
    "import matplotlib.pyplot as plt\n",
    "import astropy.units as u\n",
    "from ReadFile import Read\n",
    "from CenterOfMass import CenterOfMass"
   ]
  },
  {
   "cell_type": "code",
   "execution_count": 7,
   "metadata": {},
   "outputs": [],
   "source": [
    "\n",
    "class MassProfile:\n",
    "    \n",
    "    #Initialize the class\n",
    "    def __init__(self,galaxy,snapshot):\n",
    "        \n",
    "        self.snapshot = str(snapshot)\n",
    "        self.filename = galaxy + '_' + self.snapshot.zfill(3) + '.txt'\n",
    "        self.gname = galaxy\n",
    "        #Read in data from galaxy snapshot\n",
    "        self.time, self.total, self.data = Read(self.filename)\n",
    "        \n",
    "        #Get info on all particles of given type and put it in new arrays\n",
    "        self.m = self.data['m']\n",
    "        self.x = self.data['x'] * u.kpc\n",
    "        self.y = self.data['y'] * u.kpc\n",
    "        self.z = self.data['z'] * u.kpc\n",
    "        self.vx = self.data['vx'] * u.km / u.s\n",
    "        self.vy = self.data['vy'] * u.km / u.s\n",
    "        self.vz = self.data['vz'] * u.km / u.s\n",
    "        \n",
    "    \n",
    "    \n",
    "    #Input a particle type and an array of radii to get back the mass within the radii\n",
    "    def MassEnclosed(self,particletype,radii):\n",
    "        \n",
    "        \n",
    "        \n",
    "    \n",
    "    \n",
    "    \n"
   ]
  },
  {
   "cell_type": "code",
   "execution_count": null,
   "metadata": {},
   "outputs": [],
   "source": []
  }
 ],
 "metadata": {
  "kernelspec": {
   "display_name": "Python 3",
   "language": "python",
   "name": "python3"
  },
  "language_info": {
   "codemirror_mode": {
    "name": "ipython",
    "version": 3
   },
   "file_extension": ".py",
   "mimetype": "text/x-python",
   "name": "python",
   "nbconvert_exporter": "python",
   "pygments_lexer": "ipython3",
   "version": "3.7.0"
  }
 },
 "nbformat": 4,
 "nbformat_minor": 2
}
