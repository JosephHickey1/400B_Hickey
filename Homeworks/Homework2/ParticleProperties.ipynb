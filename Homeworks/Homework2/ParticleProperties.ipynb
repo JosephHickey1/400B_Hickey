{
 "cells": [
  {
   "cell_type": "markdown",
   "metadata": {},
   "source": [
    "Joseph Hickey  \n",
    "ASTR400B Homework 2  \n",
    "1/29/2020  \n",
    "Write code which returns the properties of a requested particle  "
   ]
  },
  {
   "cell_type": "code",
   "execution_count": 26,
   "metadata": {},
   "outputs": [],
   "source": [
    "import numpy as np\n",
    "import astropy.units as u\n",
    "\n",
    "from ReadFile import Read\n",
    "\n",
    "def ParticleInfo(file,particletype,particleno):\n",
    "#Call the Read function passing it the file of interest\n",
    "    time, N, data = Read(file)\n",
    "#Get the array positions for all particles of a given type\n",
    "    index = np.where(data['type'] == particletype)\n",
    "#Get information on specified particle and convert it to floats with units\n",
    "    x,y,z = data['x'][index], data['y'][index], data['z'][index]\n",
    "    vx,vy,vz = data['vx'][index], data['vy'][index], data['vz'][index]\n",
    "    m = data['m'][index]\n",
    "    xpos,ypos,zpos = float(x[particleno])*u.kpc, float(y[particleno])*u.kpc, float(z[particleno])*u.kpc\n",
    "    xvel,yvel,zvel = float(vx[particleno])*u.km/u.s, float(vy[particleno])*u.km/u.s, float(vz[particleno])*u.km/u.s\n",
    "#Calculate magnitude of position and velocity of particle rounded to 3 places\n",
    "    mass = m[particleno]*(10**10)*u.Msun\n",
    "    distance = np.around(((xpos**2 + ypos**2 + zpos**2)**0.5),3)\n",
    "    velocity = np.around(((xvel**2 + yvel**2 + zvel**2)**0.5),3)\n",
    "    \n",
    "    return distance, velocity, mass\n",
    "    \n",
    "    "
   ]
  },
  {
   "cell_type": "code",
   "execution_count": 27,
   "metadata": {},
   "outputs": [
    {
     "name": "stdout",
     "output_type": "stream",
     "text": [
      "4.245 kpc 312.135 km / s 1000000.0 solMass\n"
     ]
    },
    {
     "data": {
      "text/latex": [
       "$13845.338 \\; \\mathrm{lyr}$"
      ],
      "text/plain": [
       "<Quantity 13845.33823397 lyr>"
      ]
     },
     "execution_count": 27,
     "metadata": {},
     "output_type": "execute_result"
    }
   ],
   "source": [
    "#Call previously defined function\n",
    "d,v,m = ParticleInfo('MW_000.txt',2,99)\n",
    "print(d,v,m)\n",
    "#Convert distance in kiloparsecs to lightyears\n",
    "d.to(u.lyr)"
   ]
  }
 ],
 "metadata": {
  "kernelspec": {
   "display_name": "Python 3",
   "language": "python",
   "name": "python3"
  },
  "language_info": {
   "codemirror_mode": {
    "name": "ipython",
    "version": 3
   },
   "file_extension": ".py",
   "mimetype": "text/x-python",
   "name": "python",
   "nbconvert_exporter": "python",
   "pygments_lexer": "ipython3",
   "version": "3.7.0"
  }
 },
 "nbformat": 4,
 "nbformat_minor": 2
}
