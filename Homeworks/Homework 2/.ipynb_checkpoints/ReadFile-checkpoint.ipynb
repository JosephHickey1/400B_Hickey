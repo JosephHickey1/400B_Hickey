{
 "cells": [
  {
   "cell_type": "markdown",
   "metadata": {},
   "source": [
    "Joseph Hickey  \n",
    "ASTR400B Homework 2  \n",
    "1/29/2020  \n",
    "Write code that can read in the data from the MW_000.txt file  "
   ]
  },
  {
   "cell_type": "code",
   "execution_count": 5,
   "metadata": {},
   "outputs": [],
   "source": [
    "import numpy as np\n",
    "import astropy.units as u\n",
    "\n",
    "def Read(filename):\n",
    "    \n",
    "#Open file in same directory\n",
    "    file = open(filename,'r')\n",
    "#Readout first line and split it into component word and value. Assign units to value\n",
    "    line1 = file.readline()\n",
    "    label, value = line1.split()\n",
    "    time = float(value)*u.Myr\n",
    "#Readout second line and split it and assign units.\n",
    "    line2 = file.readline()\n",
    "    label, value = line2.split()\n",
    "    N = float(value)\n",
    "#Close file\n",
    "    file.close()\n",
    "#Put all the other data into a sorted ordered array\n",
    "    data = np.genfromtxt(filename,dtype=None,names=True,skip_header=3)\n",
    "    \n",
    "    return time, N, data"
   ]
  }
 ],
 "metadata": {
  "kernelspec": {
   "display_name": "Python 3",
   "language": "python",
   "name": "python3"
  },
  "language_info": {
   "codemirror_mode": {
    "name": "ipython",
    "version": 3
   },
   "file_extension": ".py",
   "mimetype": "text/x-python",
   "name": "python",
   "nbconvert_exporter": "python",
   "pygments_lexer": "ipython3",
   "version": "3.7.0"
  }
 },
 "nbformat": 4,
 "nbformat_minor": 2
}
