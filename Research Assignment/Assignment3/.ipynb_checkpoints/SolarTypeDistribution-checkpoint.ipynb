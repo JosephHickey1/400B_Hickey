{
 "cells": [
  {
   "cell_type": "markdown",
   "metadata": {},
   "source": [
    "## Evolution of the spatial distribution of stars in bound orbits at the solar radius in M31"
   ]
  },
  {
   "cell_type": "markdown",
   "metadata": {},
   "source": [
    "With this code I will find the spatial distribution of stars within M31 matching the kinematic properties of the sun as the MW-M31 merger commences. The final environments of the stars will be appropriately histogrammed to provide a probability distribution."
   ]
  },
  {
   "cell_type": "markdown",
   "metadata": {},
   "source": [
    "The redistribution of material during the merger is interesting because it can have an effect on the distribution of metal rich dust post-merger. This metal rich dust is the environment in which stars form and, if it migrates, there can be interesting features in the merger product such as a flocculant distrbution of star formation.\n",
    "The tidal forcing which causes the redistribution will change not only the position distribution but a velocity distribution as well. This should in theory lead to a more dispersion supported merger product rather than an entirely rotation supported galaxy."
   ]
  },
  {
   "cell_type": "code",
   "execution_count": 2,
   "metadata": {},
   "outputs": [],
   "source": [
    "# Import useful libraries and developed modules.\n",
    "import numpy as np\n",
    "import matplotlib.pyplot as plt\n",
    "import astropy.units as u\n",
    "import astropy.constants as const\n",
    "from ReadFile import Read\n",
    "from CenterOfMass import CenterOfMass\n",
    "from GalaxyMass import ComponentsMass"
   ]
  },
  {
   "cell_type": "code",
   "execution_count": 164,
   "metadata": {},
   "outputs": [],
   "source": [
    "# This class provides a mask for the data read in by ReadFile.py which can be used at every time step\n",
    "# to track the movements of particles starting close to a given radius which are bound to their host\n",
    "class Distribution:\n",
    "    \n",
    "    # Read in files and assign global variables for use elsewhere\n",
    "    def __init__(self,galaxy,rd=5,rb=1,rh=52):\n",
    "        # galaxy is the shorthand name for the target galaxy: MW, M31, M33\n",
    "        # rd, rb, rh are the scale radii of the disk, bulge, and haloo respectively\n",
    "        # for the target galaxy. Defaults are set for M31 as that is the assignment\n",
    "        \n",
    "        # Create unitless constant for calculation of potentials later\n",
    "        self.G = const.G.to(u.kpc**3 / u.Msun / u.Gyr**2).value\n",
    "        \n",
    "        # Convert input name to a filename to read from\n",
    "        galaxyname = str(galaxy) + \"_000.txt\"\n",
    "        # Read in data making the array global\n",
    "        T,N,self.Gal = Read(galaxyname)\n",
    "        \n",
    "        # Call the CenterOfMass class and use it to find zero points in the reference frame later\n",
    "        GalCOM = CenterOfMass(galaxyname,2)\n",
    "        # Gets the position of the COM using disk particles\n",
    "        self.Galpos = GalCOM.COM_P(0.1,4).value\n",
    "        # Gets the velocity of the COM using it's position\n",
    "        self.Galvel = GalCOM.COM_V(self.Galpos[0],self.Galpos[1],self.Galpos[2]).value\n",
    "        \n",
    "        # Scale radii and the masses of each particle type are read in or set manually\n",
    "        self.rdisk = rd\n",
    "        self.Mdisk = ComponentsMass(galaxyname,2).value * 1e12\n",
    "        self.rbulge = rb\n",
    "        self.Mbulge = ComponentsMass(galaxyname,3).value * 1e12\n",
    "        self.rhalo = rh\n",
    "        self.Mhalo = ComponentsMass(galaxyname,1).value * 1e12\n",
    "        \n",
    "    \n",
    "    \n",
    "    # This function calculates the potential of a particle due to the parts of  a\n",
    "    # galaxy that can be modeled as a Hernquist sphere (i.e. the bulge and halo)\n",
    "    def HernquistPotential(self,M,r_a,x,y,z):\n",
    "        # M is the mass of either the halo or bulge of the galaxy\n",
    "        # r_a is the scale radius of the bulge or halo\n",
    "        # x,y,z are the current position of the particle in the galaxy's frame\n",
    "        \n",
    "        # r is the magnitude of the separation\n",
    "        r = np.sqrt(x**2 + y**2 + z**2)\n",
    "        \n",
    "        # Calculate potential      >>>>       Hernquist 1990, ApJ...356..359H\n",
    "        potential = self.G * M / r / (r + r_a)\n",
    "        \n",
    "        # Returns the scalar potential\n",
    "        return potential\n",
    "        \n",
    "    \n",
    "    # This function calculates the potential of a particle due to the extended disk of a galaxy\n",
    "    # The disk cannot be modeled as a Herquist sphere but rather as a torus\n",
    "    def MiyamotoNagaiPotential(self,M,rd,x,y,z):\n",
    "        # M is the mass of the disk\n",
    "        # rd is the scale radius of the disk\n",
    "        # x,y,z are the current position of the particle in the galaxy's frame\n",
    "        \n",
    "        # R is the distance the COM and the particle on an x-y projection\n",
    "        R = np.sqrt(x**2 + y**2)\n",
    "        \n",
    "        # B is a corrected z position to make up for the lack of spherical symmetry of the disk\n",
    "        B = rd + np.sqrt(z**2 + (rd / 5.)**2)\n",
    "        \n",
    "        #  Calculate the potential      >>>>       Miyamoto & Nagai 1975 PASJ...27..533M\n",
    "        potential = self.G * M / ((R**2 + B**2)**0.5)\n",
    "        \n",
    "        # Returns the scalar potentiaL\n",
    "        return potential\n",
    "        \n",
    "    \n",
    "    # This function sums the acceleration due to each component of M31\n",
    "    def TotalPotential(self,pos):\n",
    "        # pos is a vector containing the current particle position\n",
    "        \n",
    "        # Call earlier functions with global variables and current position\n",
    "        bulgepot = self.HernquistPotential(self.Mbulge,self.rbulge,pos[0],pos[1],pos[2])\n",
    "        diskpot = self.MiyamotoNagaiPotential(self.Mdisk,self.rdisk,pos[0],pos[1],pos[2])\n",
    "        halopot = self.HernquistPotential(self.Mhalo,self.rhalo,pos[0],pos[1],pos[2])\n",
    "        \n",
    "        # Returns a total acceleration vector as a numpy array\n",
    "        return bulgepot + diskpot + halopot\n",
    "        \n",
    "    \n",
    "    # Translate particle positions/velocities to COM positions/velocities\n",
    "    # Probably could have been done in __init__ function\n",
    "    def FrameCorrection(self):\n",
    "        # Takes no inputs\n",
    "        \n",
    "        # Subtract a value from each component of the position/velocity data\n",
    "        position = np.array([self.Gal['x']-self.Galpos[0], self.Gal['y']-self.Galpos[1], self.Gal['z']-self.Galpos[2]])\n",
    "        velocity = np.array([self.Gal['vx']-self.Galvel[0], self.Gal['vy']-self.Galvel[1], self.Gal['vz']-self.Galvel[2]])\n",
    "        \n",
    "        # Returns a pair of same sized 2-D arrays\n",
    "        return position,velocity\n",
    "        \n",
    "    # Determines the escape velocity of a particle at a given radius\n",
    "    # If velocity is below this, it is bound. \n",
    "    # Could be refined to take only near circular orbits\n",
    "    def VBound(self,pos):\n",
    "        # pos is a 2-D array of particle relative position information\n",
    "        \n",
    "        # Vesc = sqrt(2*potential) and the potential is position dependent\n",
    "        \n",
    "        # Initialize an empty array to store data\n",
    "        Vesc = np.zeros(len(self.Gal['x']))\n",
    "        \n",
    "        # Loop over each particle to return their escape speeds\n",
    "        for i in range(len(self.Gal['x'])):\n",
    "            Vesc[i] = np.sqrt(2*self.TotalPotential(pos[:,i]))\n",
    "        \n",
    "        # Reurns an array with a length equal to the input array\n",
    "        return Vesc\n",
    "    \n",
    "    \n",
    "    # Creates a mask for the initial data that was read in which identifies the particles \n",
    "    # with Sun-like orbital characteristics which should be usable in future snapshots\n",
    "    def Mask(self,radius):\n",
    "        # Takes in a radius to show stars within 10% of\n",
    "        \n",
    "        # Gets the positions and velocities of all particles in the COM reference frame\n",
    "        pos, vel = self.FrameCorrection()\n",
    "        \n",
    "        # Uses coordinates to find magnitude of distance and velocity\n",
    "        dist = np.sqrt(sum(pos**2))\n",
    "        speed = np.sqrt(sum(vel**2))\n",
    "        \n",
    "        # Sets 10% bounds on the radius to narrow the sample\n",
    "        bounds = [radius*1.1,radius*0.9]\n",
    "        \n",
    "        # Creates an index where each entry is a disk particle within the range of radii and is bound to the system\n",
    "        index = np.where((self.Gal['type'] == 2) & (dist <= bounds[0]) & (dist >= bounds[1]) & (np.absolute(speed) < self.VBound(pos)))\n",
    "        \n",
    "        # Returns an index array\n",
    "        return index\n",
    "        \n",
    "    \n",
    "    # Creates a 2-D histogram of the data\n",
    "    def Histogram(self,coord1,coord2,radius=8):\n",
    "        # coord1 & coord2 are the axes you want to project information from (x,y,z,vx,vy,vz)\n",
    "        # radius is the distance from the COM of the galaxy at which you want to find particles\n",
    "        \n",
    "        # Make sure inputs are in a string format\n",
    "        coord1 = str(coord1)\n",
    "        coord2 = str(coord2)\n",
    "        \n",
    "        # Apply mask to global data\n",
    "        stars = self.Gal[Mask(radius)]\n",
    "        \n",
    "        # Create a plot of the two data axes. \n",
    "        plt.hist2d(stars[coord1],stars[coord2],bins=(len(stars[coord1])/40))\n",
    "        \n",
    "        \n",
    "        # Add more code here for more ways of presenting this data\n",
    "        # Maybe overplot the base data with a different color to show the \n",
    "        # entire population with the mask highlighted\n",
    "    \n",
    "    \n"
   ]
  },
  {
   "cell_type": "code",
   "execution_count": 165,
   "metadata": {},
   "outputs": [],
   "source": [
    "dis = Distribution('M31')"
   ]
  },
  {
   "cell_type": "code",
   "execution_count": 167,
   "metadata": {},
   "outputs": [],
   "source": [
    "index = dis.Mask(8)\n",
    "stars = data[index]"
   ]
  },
  {
   "cell_type": "code",
   "execution_count": 169,
   "metadata": {},
   "outputs": [
    {
     "data": {
      "text/plain": [
       "(array([[0., 0., 0., ..., 0., 0., 0.],\n",
       "        [0., 0., 0., ..., 0., 0., 0.],\n",
       "        [0., 0., 0., ..., 0., 0., 0.],\n",
       "        ...,\n",
       "        [0., 0., 0., ..., 0., 0., 0.],\n",
       "        [0., 0., 0., ..., 0., 0., 0.],\n",
       "        [0., 0., 0., ..., 0., 0., 0.]]),\n",
       " array([-385.62   , -385.50746, -385.39492, -385.28238, -385.16984,\n",
       "        -385.0573 , -384.94476, -384.83222, -384.71968, -384.60714,\n",
       "        -384.4946 , -384.38206, -384.26952, -384.15698, -384.04444,\n",
       "        -383.9319 , -383.81936, -383.70682, -383.59428, -383.48174,\n",
       "        -383.3692 , -383.25666, -383.14412, -383.03158, -382.91904,\n",
       "        -382.8065 , -382.69396, -382.58142, -382.46888, -382.35634,\n",
       "        -382.2438 , -382.13126, -382.01872, -381.90618, -381.79364,\n",
       "        -381.6811 , -381.56856, -381.45602, -381.34348, -381.23094,\n",
       "        -381.1184 , -381.00586, -380.89332, -380.78078, -380.66824,\n",
       "        -380.5557 , -380.44316, -380.33062, -380.21808, -380.10554,\n",
       "        -379.993  , -379.88046, -379.76792, -379.65538, -379.54284,\n",
       "        -379.4303 , -379.31776, -379.20522, -379.09268, -378.98014,\n",
       "        -378.8676 , -378.75506, -378.64252, -378.52998, -378.41744,\n",
       "        -378.3049 , -378.19236, -378.07982, -377.96728, -377.85474,\n",
       "        -377.7422 , -377.62966, -377.51712, -377.40458, -377.29204,\n",
       "        -377.1795 , -377.06696, -376.95442, -376.84188, -376.72934,\n",
       "        -376.6168 , -376.50426, -376.39172, -376.27918, -376.16664,\n",
       "        -376.0541 , -375.94156, -375.82902, -375.71648, -375.60394,\n",
       "        -375.4914 , -375.37886, -375.26632, -375.15378, -375.04124,\n",
       "        -374.9287 , -374.81616, -374.70362, -374.59108, -374.47854,\n",
       "        -374.366  , -374.25346, -374.14092, -374.02838, -373.91584,\n",
       "        -373.8033 , -373.69076, -373.57822, -373.46568, -373.35314,\n",
       "        -373.2406 , -373.12806, -373.01552, -372.90298, -372.79044,\n",
       "        -372.6779 , -372.56536, -372.45282, -372.34028, -372.22774,\n",
       "        -372.1152 , -372.00266, -371.89012, -371.77758, -371.66504,\n",
       "        -371.5525 , -371.43996, -371.32742, -371.21488, -371.10234,\n",
       "        -370.9898 , -370.87726, -370.76472, -370.65218, -370.53964,\n",
       "        -370.4271 , -370.31456, -370.20202, -370.08948, -369.97694,\n",
       "        -369.8644 , -369.75186, -369.63932, -369.52678, -369.41424,\n",
       "        -369.3017 , -369.18916, -369.07662, -368.96408, -368.85154,\n",
       "        -368.739  ]),\n",
       " array([-292.699 , -292.5873, -292.4756, -292.3639, -292.2522, -292.1405,\n",
       "        -292.0288, -291.9171, -291.8054, -291.6937, -291.582 , -291.4703,\n",
       "        -291.3586, -291.2469, -291.1352, -291.0235, -290.9118, -290.8001,\n",
       "        -290.6884, -290.5767, -290.465 , -290.3533, -290.2416, -290.1299,\n",
       "        -290.0182, -289.9065, -289.7948, -289.6831, -289.5714, -289.4597,\n",
       "        -289.348 , -289.2363, -289.1246, -289.0129, -288.9012, -288.7895,\n",
       "        -288.6778, -288.5661, -288.4544, -288.3427, -288.231 , -288.1193,\n",
       "        -288.0076, -287.8959, -287.7842, -287.6725, -287.5608, -287.4491,\n",
       "        -287.3374, -287.2257, -287.114 , -287.0023, -286.8906, -286.7789,\n",
       "        -286.6672, -286.5555, -286.4438, -286.3321, -286.2204, -286.1087,\n",
       "        -285.997 , -285.8853, -285.7736, -285.6619, -285.5502, -285.4385,\n",
       "        -285.3268, -285.2151, -285.1034, -284.9917, -284.88  , -284.7683,\n",
       "        -284.6566, -284.5449, -284.4332, -284.3215, -284.2098, -284.0981,\n",
       "        -283.9864, -283.8747, -283.763 , -283.6513, -283.5396, -283.4279,\n",
       "        -283.3162, -283.2045, -283.0928, -282.9811, -282.8694, -282.7577,\n",
       "        -282.646 , -282.5343, -282.4226, -282.3109, -282.1992, -282.0875,\n",
       "        -281.9758, -281.8641, -281.7524, -281.6407, -281.529 , -281.4173,\n",
       "        -281.3056, -281.1939, -281.0822, -280.9705, -280.8588, -280.7471,\n",
       "        -280.6354, -280.5237, -280.412 , -280.3003, -280.1886, -280.0769,\n",
       "        -279.9652, -279.8535, -279.7418, -279.6301, -279.5184, -279.4067,\n",
       "        -279.295 , -279.1833, -279.0716, -278.9599, -278.8482, -278.7365,\n",
       "        -278.6248, -278.5131, -278.4014, -278.2897, -278.178 , -278.0663,\n",
       "        -277.9546, -277.8429, -277.7312, -277.6195, -277.5078, -277.3961,\n",
       "        -277.2844, -277.1727, -277.061 , -276.9493, -276.8376, -276.7259,\n",
       "        -276.6142, -276.5025, -276.3908, -276.2791, -276.1674, -276.0557,\n",
       "        -275.944 ]),\n",
       " <matplotlib.image.AxesImage at 0x1ec8aec4e48>)"
      ]
     },
     "execution_count": 169,
     "metadata": {},
     "output_type": "execute_result"
    },
    {
     "data": {
      "image/png": "[encoded data removed]",
      "text/plain": [
       "<Figure size 432x288 with 1 Axes>"
      ]
     },
     "metadata": {
      "needs_background": "light"
     },
     "output_type": "display_data"
    }
   ],
   "source": [
    "\n",
    "plt.hist2d(stars['x'],stars['z'],bins=(len(stars['x'])/40))\n"
   ]
  },
  {
   "cell_type": "code",
   "execution_count": 150,
   "metadata": {},
   "outputs": [
    {
     "data": {
      "text/plain": [
       "(array([[0., 0., 0., ..., 0., 0., 0.],\n",
       "        [0., 0., 0., ..., 0., 0., 0.],\n",
       "        [0., 0., 0., ..., 0., 0., 0.],\n",
       "        ...,\n",
       "        [0., 0., 0., ..., 0., 0., 0.],\n",
       "        [0., 0., 0., ..., 0., 0., 0.],\n",
       "        [0., 0., 0., ..., 0., 0., 0.]]),\n",
       " array([-435.235     , -435.19825433, -435.16150867, ..., -325.07149133,\n",
       "        -325.03474567, -324.998     ]),\n",
       " array([573.247     , 573.27188833, 573.29677667, ..., 647.86222333,\n",
       "        647.88711167, 647.912     ]),\n",
       " <matplotlib.image.AxesImage at 0x1ec8a713400>)"
      ]
     },
     "execution_count": 150,
     "metadata": {},
     "output_type": "execute_result"
    },
    {
     "data": {
      "image/png": "[encoded data removed]",
      "text/plain": [
       "<Figure size 432x288 with 1 Axes>"
      ]
     },
     "metadata": {
      "needs_background": "light"
     },
     "output_type": "display_data"
    }
   ],
   "source": [
    "plt.hist2d(a['x'],a['y'],bins=(len(a['x'])/40))"
   ]
  },
  {
   "cell_type": "code",
   "execution_count": 149,
   "metadata": {},
   "outputs": [],
   "source": [
    "a = data[np.where(data['type'] == 2)]"
   ]
  },
  {
   "cell_type": "code",
   "execution_count": 155,
   "metadata": {},
   "outputs": [],
   "source": [
    "t,n,data = Read('M31_000.txt')"
   ]
  },
  {
   "cell_type": "code",
   "execution_count": null,
   "metadata": {},
   "outputs": [],
   "source": []
  },
  {
   "cell_type": "code",
   "execution_count": null,
   "metadata": {},
   "outputs": [],
   "source": [
    "# Create a function which takes the galaxy name and starting radius as input\n",
    "# Which outputs a movie of the histogram changing through each timestep\n",
    "# as the particles are tidally forced changing from a circle to something new\n",
    "\n",
    "# Will use plt.hist2d and ffmpeg as I am familiar with it"
   ]
  },
  {
   "cell_type": "code",
   "execution_count": null,
   "metadata": {},
   "outputs": [],
   "source": []
  },
  {
   "cell_type": "code",
   "execution_count": 163,
   "metadata": {},
   "outputs": [
    {
     "data": {
      "text/plain": [
       "50000"
      ]
     },
     "execution_count": 163,
     "metadata": {},
     "output_type": "execute_result"
    }
   ],
   "source": [
    "len(data[np.where(data['type'] == 1)])"
   ]
  },
  {
   "cell_type": "code",
   "execution_count": null,
   "metadata": {},
   "outputs": [],
   "source": []
  },
  {
   "cell_type": "code",
   "execution_count": null,
   "metadata": {},
   "outputs": [],
   "source": []
  },
  {
   "cell_type": "code",
   "execution_count": null,
   "metadata": {},
   "outputs": [],
   "source": []
  },
  {
   "cell_type": "code",
   "execution_count": null,
   "metadata": {},
   "outputs": [],
   "source": []
  },
  {
   "cell_type": "code",
   "execution_count": null,
   "metadata": {},
   "outputs": [],
   "source": []
  },
  {
   "cell_type": "code",
   "execution_count": null,
   "metadata": {},
   "outputs": [],
   "source": []
  },
  {
   "cell_type": "code",
   "execution_count": null,
   "metadata": {},
   "outputs": [],
   "source": []
  }
 ],
 "metadata": {
  "kernelspec": {
   "display_name": "Python 3",
   "language": "python",
   "name": "python3"
  },
  "language_info": {
   "codemirror_mode": {
    "name": "ipython",
    "version": 3
   },
   "file_extension": ".py",
   "mimetype": "text/x-python",
   "name": "python",
   "nbconvert_exporter": "python",
   "pygments_lexer": "ipython3",
   "version": "3.7.0"
  }
 },
 "nbformat": 4,
 "nbformat_minor": 2
}
