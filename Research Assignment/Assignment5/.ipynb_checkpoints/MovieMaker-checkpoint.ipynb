{
 "cells": [
  {
   "cell_type": "markdown",
   "metadata": {},
   "source": [
    "Creates a movie using particles defined in the M31 simulation"
   ]
  },
  {
   "cell_type": "code",
   "execution_count": 4,
   "metadata": {},
   "outputs": [],
   "source": [
    "import numpy as np\n",
    "import matplotlib.pyplot as plt\n",
    "import matplotlib.animation as anim\n",
    "from SolarTypeDistribution import Distribution\n",
    "from ReadFile import Read\n",
    "from matplotlib.colors import LogNorm"
   ]
  },
  {
   "cell_type": "code",
   "execution_count": 5,
   "metadata": {},
   "outputs": [],
   "source": [
    "t,n,M31 = Read('M31_000.txt')\n",
    "dis = Distribution('M31')\n",
    "mask = dis.Mask(8)"
   ]
  },
  {
   "cell_type": "code",
   "execution_count": 6,
   "metadata": {},
   "outputs": [],
   "source": [
    "def histogram(i):\n",
    "    \n",
    "    snapshot = str(i).zfill(3)\n",
    "    file = './snapshots/M31_' + snapshot + '.txt'\n",
    "    \n",
    "    a,b,data = Read(file)\n",
    "    plt.xlim(-500,400)\n",
    "plt.ylim(-150,650)\n",
    "    h = plt.hist2d(data['x'][mask],data['y'][mask],bins=[400,400],norm=LogNorm())\n",
    "    return h\n",
    "    \n",
    "    "
   ]
  },
  {
   "cell_type": "code",
   "execution_count": null,
   "metadata": {},
   "outputs": [],
   "source": [
    "fig, ax = plt.subplots()\n",
    "plt.xlim(-500,400)\n",
    "plt.ylim(-150,650)\n",
    "\n",
    "ani = anim.FuncAnimation(fig,histogram,frames=800)\n",
    "\n",
    "Writer = anim.writers['ffmpeg']\n",
    "writer = Writer(fps=15, metadata=dict(artist='Me'), bitrate=800)\n",
    "\n",
    "ani.save('distribution.mp4', writer=writer)"
   ]
  }
 ],
 "metadata": {
  "kernelspec": {
   "display_name": "Python 3",
   "language": "python",
   "name": "python3"
  },
  "language_info": {
   "codemirror_mode": {
    "name": "ipython",
    "version": 3
   },
   "file_extension": ".py",
   "mimetype": "text/x-python",
   "name": "python",
   "nbconvert_exporter": "python",
   "pygments_lexer": "ipython3",
   "version": "3.7.0"
  }
 },
 "nbformat": 4,
 "nbformat_minor": 2
}
